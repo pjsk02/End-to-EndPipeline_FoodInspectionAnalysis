{
 "cells": [
  {
   "cell_type": "code",
   "execution_count": 0,
   "metadata": {
    "application/vnd.databricks.v1+cell": {
     "cellMetadata": {
      "byteLimit": 2048000,
      "rowLimit": 10000
     },
     "inputWidgets": {},
     "nuid": "efab7610-39ba-42ed-bac6-3f3459793c62",
     "showTitle": false,
     "tableResultSettingsMap": {},
     "title": ""
    }
   },
   "outputs": [],
   "source": [
    "# Reading Dallas dataset\n",
    "df_dallas = spark.read.parquet(\"/FileStore/tables/Dallas_Cleaned.parquet\")\n",
    "\n",
    "# Reading Chicago dataset\n",
    "df_chicago = spark.read.parquet(\"/FileStore/tables/Chicago_Cleaned.parquet\")\n"
   ]
  },
  {
   "cell_type": "markdown",
   "metadata": {
    "application/vnd.databricks.v1+cell": {
     "cellMetadata": {},
     "inputWidgets": {},
     "nuid": "6af3a660-c7a3-4943-b1df-989d97744079",
     "showTitle": false,
     "tableResultSettingsMap": {},
     "title": ""
    }
   },
   "source": [
    "Data Preview\n"
   ]
  },
  {
   "cell_type": "code",
   "execution_count": 0,
   "metadata": {
    "application/vnd.databricks.v1+cell": {
     "cellMetadata": {
      "byteLimit": 2048000,
      "rowLimit": 10000
     },
     "inputWidgets": {},
     "nuid": "abdfa929-e57f-486c-9f5e-bf10953b96c8",
     "showTitle": false,
     "tableResultSettingsMap": {},
     "title": ""
    }
   },
   "outputs": [
    {
     "output_type": "stream",
     "name": "stdout",
     "output_type": "stream",
     "text": [
      "root\n |-- RowID: long (nullable = true)\n |-- Restaurant_Name: string (nullable = true)\n |-- Also_Known_As_Name: string (nullable = true)\n |-- License_Num: long (nullable = true)\n |-- Facility_Type: string (nullable = true)\n |-- Risk: string (nullable = true)\n |-- Street_Address: string (nullable = true)\n |-- City: string (nullable = true)\n |-- State: string (nullable = true)\n |-- Zip_Code: string (nullable = true)\n |-- Inspection_Date: date (nullable = true)\n |-- Inspection_Type: string (nullable = true)\n |-- Results: string (nullable = true)\n |-- Violations_Info: string (nullable = true)\n |-- Latitude: double (nullable = true)\n |-- Longitude: double (nullable = true)\n |-- Location: string (nullable = true)\n\n+-----+--------------------+------------------+-----------+-------------+------------+--------------------+------+-----+--------+---------------+---------------+-------+--------------------+---------+----------+--------------------+\n|RowID|     Restaurant_Name|Also_Known_As_Name|License_Num|Facility_Type|        Risk|      Street_Address|  City|State|Zip_Code|Inspection_Date|Inspection_Type|Results|     Violations_Info| Latitude| Longitude|            Location|\n+-----+--------------------+------------------+-----------+-------------+------------+--------------------+------+-----+--------+---------------+---------------+-------+--------------------+---------+----------+--------------------+\n|    1|AFC SUSHI @ TOM T...|     Not Available|       -111|   Restaurant|Risk 3 (Low)|6333 E MOCKINGBIR...|DALLAS|   TX|   75214|     2021-12-28|        Routine|   Pass|1.0, 228.179  Phy...| 32.87784| -96.70088| 32.87784, -96.70088|\n|    3|JENI'S SPLENDID I...|     Not Available|       -111|   Restaurant|Risk 3 (Low)|        2649 MAIN ST|DALLAS|   TX|   75226|     2021-04-27|        Routine|   Pass|             Unknown|      0.0|       0.0|                 N/A|\n|    4|PANADERIA Y RESTA...|     Not Available|       -111|   Restaurant|Risk 3 (Low)|    611 S HAMPTON RD|DALLAS|   TX|   75211|     2023-12-27|        Routine|   Pass|2.0, Sec. 17-2.2(...|32.866825|-96.906811|32.866825, -96.90...|\n|    4|PANADERIA Y RESTA...|     Not Available|       -111|   Restaurant|Risk 3 (Low)|    611 S HAMPTON RD|DALLAS|   TX|   75211|     2023-12-27|        Routine|   Pass|1.0, 228.114  Equ...|32.866825|-96.906811|32.866825, -96.90...|\n|    4|PANADERIA Y RESTA...|     Not Available|       -111|   Restaurant|Risk 3 (Low)|    611 S HAMPTON RD|DALLAS|   TX|   75211|     2023-12-27|        Routine|   Pass|1.0, 228.113  Equ...|32.866825|-96.906811|32.866825, -96.90...|\n+-----+--------------------+------------------+-----------+-------------+------------+--------------------+------+-----+--------+---------------+---------------+-------+--------------------+---------+----------+--------------------+\nonly showing top 5 rows\n\nroot\n |-- Inspection_ID: long (nullable = true)\n |-- DBA_Name: string (nullable = true)\n |-- AKA_Name: string (nullable = true)\n |-- License_Num: long (nullable = true)\n |-- Facility_Type: string (nullable = true)\n |-- Risk: string (nullable = true)\n |-- Address: string (nullable = true)\n |-- City: string (nullable = true)\n |-- State: string (nullable = true)\n |-- Zip_Code: string (nullable = true)\n |-- Inspection_Date: date (nullable = true)\n |-- Inspection_Type: string (nullable = true)\n |-- Results: string (nullable = true)\n |-- Violations_Info: string (nullable = true)\n |-- Latitude: double (nullable = true)\n |-- Longitude: double (nullable = true)\n |-- Location: string (nullable = true)\n\n+-------------+--------------------+--------------------+-----------+--------------------+---------------+--------------------+-------+-----+--------+---------------+---------------+------------------+--------------------+-----------------+------------------+--------------------+\n|Inspection_ID|            DBA_Name|            AKA_Name|License_Num|       Facility_Type|           Risk|             Address|   City|State|Zip_Code|Inspection_Date|Inspection_Type|           Results|     Violations_Info|         Latitude|         Longitude|            Location|\n+-------------+--------------------+--------------------+-----------+--------------------+---------------+--------------------+-------+-----+--------+---------------+---------------+------------------+--------------------+-----------------+------------------+--------------------+\n|      2170232|       CANTER MIDDLE|       CANTER MIDDLE|      23981|              School|Risk 2 (Medium)|4959 S Blackstone...|CHICAGO|   IL|   60615|     2021-09-28|        Canvass|              Pass|             Unknown| 41.8043447404251| -87.5903949382913|(41.8043447404251...|\n|      2402211|LITTLE EINSTEINS ...|LITTLE EINSTEINS ...|    2374057|Children's Servic...|  Risk 1 (High)|   2896 S ARCHER AVE|CHICAGO|   IL|   60608|     2021-01-04|        Canvass|              Pass|47. FOOD & NON-FO...|41.84192883654943|-87.65764326211733|(41.8419288365494...|\n|      2402211|LITTLE EINSTEINS ...|LITTLE EINSTEINS ...|    2374057|Children's Servic...|  Risk 1 (High)|   2896 S ARCHER AVE|CHICAGO|   IL|   60608|     2021-01-04|        Canvass|              Pass|49. NON-FOOD/FOOD...|41.84192883654943|-87.65764326211733|(41.8419288365494...|\n|      2402212|ZAYTUNE MEDITERRA...|             ZAYTUNE|    2009543|          Restaurant|  Risk 1 (High)|    3129 S Morgan ST|CHICAGO|   IL|   60608|     2021-01-04|        Canvass|Pass w/ Conditions|10. ADEQUATE HAND...|41.83713294787266|-87.65097503508115|(41.8371329478726...|\n|      2402212|ZAYTUNE MEDITERRA...|             ZAYTUNE|    2009543|          Restaurant|  Risk 1 (High)|    3129 S Morgan ST|CHICAGO|   IL|   60608|     2021-01-04|        Canvass|Pass w/ Conditions|55. PHYSICAL FACI...|41.83713294787266|-87.65097503508115|(41.8371329478726...|\n+-------------+--------------------+--------------------+-----------+--------------------+---------------+--------------------+-------+-----+--------+---------------+---------------+------------------+--------------------+-----------------+------------------+--------------------+\nonly showing top 5 rows\n\n"
     ]
    }
   ],
   "source": [
    "df_dallas.printSchema()\n",
    "df_dallas.show(5)\n",
    "\n",
    "df_chicago.printSchema()\n",
    "df_chicago.show(5)\n"
   ]
  },
  {
   "cell_type": "markdown",
   "metadata": {
    "application/vnd.databricks.v1+cell": {
     "cellMetadata": {},
     "inputWidgets": {},
     "nuid": "87d88de3-735f-4ded-896a-2112967928c8",
     "showTitle": false,
     "tableResultSettingsMap": {},
     "title": ""
    }
   },
   "source": [
    "Snowflake Connection\n"
   ]
  },
  {
   "cell_type": "code",
   "execution_count": 0,
   "metadata": {
    "application/vnd.databricks.v1+cell": {
     "cellMetadata": {
      "byteLimit": 2048000,
      "rowLimit": 10000
     },
     "inputWidgets": {},
     "nuid": "6bad8eac-418a-494a-bfe5-8a3ef7dc8229",
     "showTitle": false,
     "tableResultSettingsMap": {},
     "title": ""
    }
   },
   "outputs": [],
   "source": [
    "sfOptions = {\n",
    "  \"sfURL\" : \"HYQMYKK-SXA08708.snowflakecomputing.com\",\n",
    "  \"sfUser\" : \"CD_USER\",\n",
    "  \"sfPassword\" : \"snowflake123#\",  \n",
    "  \"sfDatabase\" : \"CD_DB\",\n",
    "  \"sfSchema\" : \"CD_SCHEMA\",\n",
    "  \"sfWarehouse\" : \"CD_WH\",\n",
    "  \"sfRole\": \"CD_ROLE\"\n",
    "}"
   ]
  },
  {
   "cell_type": "code",
   "execution_count": 0,
   "metadata": {
    "application/vnd.databricks.v1+cell": {
     "cellMetadata": {
      "byteLimit": 2048000,
      "rowLimit": 10000
     },
     "inputWidgets": {},
     "nuid": "afcdd25d-7866-4068-993f-4e05d9f017db",
     "showTitle": false,
     "tableResultSettingsMap": {},
     "title": ""
    }
   },
   "outputs": [],
   "source": [
    "# Write Dallas dataset to Snowflake\n",
    "df_dallas.write \\\n",
    "    .format(\"snowflake\") \\\n",
    "    .options(**sfOptions) \\\n",
    "    .option(\"dbtable\", \"STAGE_DALLAS_INSPECTIONS\") \\\n",
    "    .mode(\"overwrite\") \\\n",
    "    .save()\n",
    "\n",
    "# Write Chicago dataset to Snowflake\n",
    "df_chicago.write \\\n",
    "    .format(\"snowflake\") \\\n",
    "    .options(**sfOptions) \\\n",
    "    .option(\"dbtable\", \"STAGE_CHICAGO_INSPECTIONS\") \\\n",
    "    .mode(\"overwrite\") \\\n",
    "    .save()\n"
   ]
  }
 ],
 "metadata": {
  "application/vnd.databricks.v1+notebook": {
   "computePreferences": null,
   "dashboards": [],
   "environmentMetadata": {
    "base_environment": "",
    "environment_version": "1"
   },
   "inputWidgetPreferences": null,
   "language": "python",
   "notebookMetadata": {
    "pythonIndentUnit": 4
   },
   "notebookName": "CHICAGO_DALLAS_STAGETABLES",
   "widgets": {}
  }
 },
 "nbformat": 4,
 "nbformat_minor": 0
}